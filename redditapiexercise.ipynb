{
 "cells": [
  {
   "cell_type": "code",
   "execution_count": 5,
   "metadata": {},
   "outputs": [],
   "source": [
    "import praw\n",
    "import pandas as pd"
   ]
  },
  {
   "cell_type": "code",
   "execution_count": 2,
   "metadata": {},
   "outputs": [],
   "source": [
    "CLIENT_ID = \"jYyjxP8bTXfSmg\"\n",
    "CLIENT_SECRET = \"YSyHQdEfN8ybXPVg74If51ZIaWs\"\n",
    "USER_AGENT = f\"python:{CLIENT_ID}:0.1 (by /u/pandareddit12)\""
   ]
  },
  {
   "cell_type": "code",
   "execution_count": 6,
   "metadata": {},
   "outputs": [],
   "source": [
    "api = praw.Reddit(\n",
    "    client_id = CLIENT_ID,\n",
    "    client_secret = CLIENT_SECRET,\n",
    "    user_agent = USER_AGENT\n",
    ")"
   ]
  },
  {
   "cell_type": "code",
   "execution_count": 7,
   "metadata": {},
   "outputs": [
    {
     "data": {
      "text/plain": [
       "True"
      ]
     },
     "execution_count": 7,
     "metadata": {},
     "output_type": "execute_result"
    }
   ],
   "source": [
    "api.read_only"
   ]
  },
  {
   "cell_type": "code",
   "execution_count": 9,
   "metadata": {},
   "outputs": [
    {
     "data": {
      "text/plain": [
       "<praw.models.listing.generator.ListingGenerator at 0x23ecb719198>"
      ]
     },
     "execution_count": 9,
     "metadata": {},
     "output_type": "execute_result"
    }
   ],
   "source": [
    "submissions = api.subreddit('askReddit').hot(limit = 10)\n",
    "submissions"
   ]
  },
  {
   "cell_type": "code",
   "execution_count": 28,
   "metadata": {},
   "outputs": [],
   "source": [
    "results = api.subreddit('news').hot(limit = 100)\n",
    "submissions = []\n",
    "for result in results:\n",
    "    submissions.append({\n",
    "        \"title\" : result.title,\n",
    "        \"score\" : result.score,\n",
    "        \"comments\" : result.num_comments\n",
    "    })"
   ]
  },
  {
   "cell_type": "code",
   "execution_count": 29,
   "metadata": {},
   "outputs": [
    {
     "data": {
      "text/html": [
       "<div>\n",
       "<style scoped>\n",
       "    .dataframe tbody tr th:only-of-type {\n",
       "        vertical-align: middle;\n",
       "    }\n",
       "\n",
       "    .dataframe tbody tr th {\n",
       "        vertical-align: top;\n",
       "    }\n",
       "\n",
       "    .dataframe thead th {\n",
       "        text-align: right;\n",
       "    }\n",
       "</style>\n",
       "<table border=\"1\" class=\"dataframe\">\n",
       "  <thead>\n",
       "    <tr style=\"text-align: right;\">\n",
       "      <th></th>\n",
       "      <th>comments</th>\n",
       "      <th>score</th>\n",
       "      <th>title</th>\n",
       "    </tr>\n",
       "  </thead>\n",
       "  <tbody>\n",
       "    <tr>\n",
       "      <th>0</th>\n",
       "      <td>1003</td>\n",
       "      <td>12050</td>\n",
       "      <td>YouTube is down for users worldwide - NZ Herald</td>\n",
       "    </tr>\n",
       "    <tr>\n",
       "      <th>1</th>\n",
       "      <td>2740</td>\n",
       "      <td>79485</td>\n",
       "      <td>For the first time in 25 years New York City d...</td>\n",
       "    </tr>\n",
       "    <tr>\n",
       "      <th>2</th>\n",
       "      <td>3418</td>\n",
       "      <td>39722</td>\n",
       "      <td>Amber Alert issued for 13-year-old girl after ...</td>\n",
       "    </tr>\n",
       "    <tr>\n",
       "      <th>3</th>\n",
       "      <td>548</td>\n",
       "      <td>1258</td>\n",
       "      <td>\"Do you think I want to shoot an 11-year-old?\"...</td>\n",
       "    </tr>\n",
       "    <tr>\n",
       "      <th>4</th>\n",
       "      <td>156</td>\n",
       "      <td>1227</td>\n",
       "      <td>For the first time, a woman is leading the lar...</td>\n",
       "    </tr>\n",
       "  </tbody>\n",
       "</table>\n",
       "</div>"
      ],
      "text/plain": [
       "   comments  score                                              title\n",
       "0      1003  12050    YouTube is down for users worldwide - NZ Herald\n",
       "1      2740  79485  For the first time in 25 years New York City d...\n",
       "2      3418  39722  Amber Alert issued for 13-year-old girl after ...\n",
       "3       548   1258  \"Do you think I want to shoot an 11-year-old?\"...\n",
       "4       156   1227  For the first time, a woman is leading the lar..."
      ]
     },
     "execution_count": 29,
     "metadata": {},
     "output_type": "execute_result"
    }
   ],
   "source": [
    "df = pd.DataFrame(submissions)\n",
    "df.head()"
   ]
  },
  {
   "cell_type": "code",
   "execution_count": 22,
   "metadata": {},
   "outputs": [
    {
     "name": "stdout",
     "output_type": "stream",
     "text": [
      "[{'title': 'YouTube is down for users worldwide - NZ Herald', 'score': 11768, 'comments': 995}, {'title': \"For the first time in 25 years New York City didn't have a single shooting over the weekend\", 'score': 79422, 'comments': 2738}, {'title': 'Amber Alert issued for 13-year-old girl after parents found dead', 'score': 39691, 'comments': 3415}, {'title': '\"Do you think I want to shoot an 11-year-old?\": Cop confronts boys carrying BB gun', 'score': 1243, 'comments': 544}, {'title': 'For the first time, a woman is leading the largest command in the US Army', 'score': 1215, 'comments': 154}, {'title': 'Body of missing Saudi journalist was cut into pieces, Turkish official says', 'score': 1978, 'comments': 333}, {'title': \"Jamal Khashoggi's killing took seven minutes, Turkish source tells MEE\", 'score': 470, 'comments': 116}, {'title': '‘Hyperalarming’ study shows massive insect loss', 'score': 2399, 'comments': 574}, {'title': 'Canada becomes second country to legalise recreational marijuana', 'score': 194, 'comments': 15}, {'title': 'US budget deficit hits highest level in 6 years', 'score': 923, 'comments': 302}, {'title': 'Julian Assange ordered by Ecuador to curb speech, clean bathroom, look after cat if he wants internet', 'score': 18307, 'comments': 1624}, {'title': 'Google will stop bundling its apps on Android phones in response to EU fine', 'score': 568, 'comments': 191}, {'title': 'Unvaccinated child from Florida becomes first death of the flu season', 'score': 70, 'comments': 21}, {'title': 'Suspects in Khashoggi Case Had Ties to Saudi Crown Prince', 'score': 226, 'comments': 21}, {'title': 'Survey: Half of parents think flu shot causes the flu', 'score': 98, 'comments': 54}, {'title': 'Deputies: Teen charged after shots fired at sign struck, killed retired Marine sitting on porch', 'score': 149, 'comments': 28}, {'title': 'Man rescues dolphin stuck in shallow water after hurricane', 'score': 139, 'comments': 8}, {'title': 'Typhus zone: Rats and trash infest Los Angeles; skid row, fueling disease', 'score': 748, 'comments': 270}, {'title': 'CDC says 127 suspected and confirmed cases of polio-like condition - The condition affects fewer than one in a million children, CDC says.', 'score': 80, 'comments': 11}, {'title': \"'Everything on the table' as commission begins examining corrupt Baltimore Police Gun Trace Task Force\", 'score': 191, 'comments': 22}, {'title': 'Supreme Court agrees to hear a case that could determine whether Facebook, Twitter and other social media companies can censor their users', 'score': 53, 'comments': 37}, {'title': 'U.S. regains crown as most competitive economy for first time since 2008: WEF', 'score': 74, 'comments': 38}, {'title': 'One person is in custody after a baby was stabbed, placed in an oven and baked', 'score': 327, 'comments': 235}, {'title': 'Armed protesters were on Portland rooftop in August, police now say', 'score': 197, 'comments': 149}, {'title': 'Microsoft co-founder Paul Allen dies of cancer at age 65', 'score': 69251, 'comments': 2830}, {'title': 'Most states facing confirmed or possible cases of polio-like illness', 'score': 196, 'comments': 24}, {'title': 'Suspects in Khashoggi Case Had Ties to Saudi Crown Prince', 'score': 40, 'comments': 0}, {'title': 'A British teenager who is trying to become the youngest person to cycle solo around the world has had his bike stolen in Australia.', 'score': 20, 'comments': 13}, {'title': 'U.S. to require drug companies to include prices in their ads', 'score': 11355, 'comments': 821}, {'title': 'Judge orders protections for defrauded students to go into effect', 'score': 122, 'comments': 13}, {'title': 'Passport scans show Saudis accused by Turkey of killing writer Jamal Khashoggi', 'score': 49, 'comments': 5}, {'title': 'Artificial Intelligence: MIT has just announced a $1 billion plan to create a new college for AI', 'score': 863, 'comments': 125}, {'title': 'Man dies from rare disease after eating squirrel brains', 'score': 25, 'comments': 19}, {'title': 'Nevada brothel owner Dennis Hof dies at 72', 'score': 118, 'comments': 53}, {'title': \"Cherokee Nation issues statement on Sen. Elizabeth Warren's DNA test results\", 'score': 12404, 'comments': 6282}, {'title': 'Self-lubricating condom may encourage safe sex', 'score': 22, 'comments': 8}, {'title': 'Quebec dissident believes Saudis used spyware to eavesdrop on his chats with Jamal Khashoggi', 'score': 194, 'comments': 11}, {'title': 'Kentucky baby given 3 doses of Narcan after she ODs on drugs; father charged', 'score': 87, 'comments': 23}, {'title': 'Czech intelligence service shuts down Hezbollah hacking operation | ZDNet', 'score': 68, 'comments': 7}, {'title': 'Suspects in Khashoggi Case Had Ties to Saudi Crown Prince', 'score': 36, 'comments': 4}, {'title': 'Huge North Philadelphia Brawl Leaves 3 Officers Hurt, 14 Youths Detained', 'score': 19, 'comments': 5}, {'title': 'Mega Millions jackpot jumps to $868 million, second-largest in US history', 'score': 14, 'comments': 13}, {'title': 'Ohio haunted house suspends actors for mock rapes', 'score': 21, 'comments': 14}, {'title': 'Teen Attacks Jewish Man with Stick, Charged with Hate Crime', 'score': 476, 'comments': 253}, {'title': 'Former WVU football star charged with incest, sodomy', 'score': 31, 'comments': 2}, {'title': 'Verizon giving customers in Bay, Gulf counties three months of free service', 'score': 34, 'comments': 3}, {'title': '129 guns found in home of S. Carolina police ambush suspect', 'score': 71, 'comments': 100}, {'title': 'Record Breaker: 4 Huge Alien Planets Spotted Around Baby Star', 'score': 76, 'comments': 11}, {'title': 'MLB looks into allegations Houston Astros have cheated during playoffs', 'score': 13, 'comments': 0}, {'title': \"China says camps for Muslims lead them to 'modern' life\", 'score': 201, 'comments': 105}, {'title': 'Saudis have a $6 million lobbying payroll despite departures', 'score': 29, 'comments': 1}, {'title': 'Marijuana Legalization in Canada Has Companies Chasing a Green Rush', 'score': 20, 'comments': 3}, {'title': 'Waterbury man charged with killing, beheading ex’s kittens', 'score': 265, 'comments': 66}, {'title': \"Saudi prince 'denies knowing Khashoggi fate'\", 'score': 37, 'comments': 9}, {'title': 'Hurricane Michael Death Toll Increased to 29, Officials Say', 'score': 55, 'comments': 3}, {'title': 'NYPD Looks to Charge 9 “Proud Boys” With Assault for Manhattan Fight', 'score': 9880, 'comments': 2574}, {'title': \"Pompeii's destruction date could be wrong\", 'score': 42, 'comments': 6}, {'title': 'Grandmother charged with murder after baby found stabbed and placed in oven', 'score': 20, 'comments': 5}, {'title': 'Uber driver charged with kidnapping New York woman', 'score': 22, 'comments': 4}, {'title': 'First Legal weed sale in Canada.', 'score': 9, 'comments': 4}, {'title': 'SEC warns corporate cyber weakness could violate federal law', 'score': 39, 'comments': 4}, {'title': 'Ex-Baylor University frat president takes plea deal in sexual assault case', 'score': 19, 'comments': 5}, {'title': 'Earthquake hits while Montana school practices earthquake drills', 'score': 23, 'comments': 15}, {'title': \"CNN: List of Prominent Execs who have/haven't pulled out of Davos in the Desert\", 'score': 126, 'comments': 23}, {'title': 'Supreme Court: Next Florida governor will pick new justices', 'score': 44, 'comments': 6}, {'title': '7 killed, almost 80 injured in Morocco train derailment', 'score': 40, 'comments': 0}, {'title': 'Mother of three jailed for false rape allegations', 'score': 8, 'comments': 14}, {'title': 'The Latest: Turkish official: Evidence found in consulate', 'score': 119, 'comments': 17}, {'title': 'US soldiers under investigation for allegedly beating up three Polish men', 'score': 32, 'comments': 10}, {'title': 'North, South agree to break ground on inter-Korean railroad', 'score': 496, 'comments': 45}, {'title': 'Unvaccinated child from Florida becomes first death of the flu season', 'score': 3195, 'comments': 564}, {'title': 'Debris found on North Carolina beach is from SpaceX rocket', 'score': 6, 'comments': 4}, {'title': 'Mary Bono resigns as interim president of USA Gymnastics', 'score': 27, 'comments': 14}, {'title': 'Suspect in Florida sex sting says \"he only came to the meeting place because he believed it was an undercover sting and he thought it would be cool to see it in action\"', 'score': 2021, 'comments': 348}, {'title': 'School in Ohio has “full scale” active shooter drill planned', 'score': 13, 'comments': 21}, {'title': 'Outraged Parents Say Davis Student Shared Cookies Made with Her Grandmother’s Ashes', 'score': 68, 'comments': 35}, {'title': 'GRAPHIC: Owner speaks out after surveillance video captures his dog being beaten', 'score': 7, 'comments': 26}, {'title': 'Air Force contractor pays $1M to settle bill-padding claims', 'score': 23, 'comments': 2}, {'title': 'Woman kills herself and her 4 adopted children.', 'score': 16, 'comments': 4}, {'title': 'Leukemia patient says he was beaten by Galveston police', 'score': 442, 'comments': 91}, {'title': 'Trump signs bill requiring airports to provide spaces for nursing mothers', 'score': 605, 'comments': 264}, {'title': 'Exclusive: Facebook to ban misinformation on voting in upcoming U.S. elections', 'score': 194, 'comments': 81}, {'title': 'By annihilating wildlife, humanity is ‘cutting down the tree of life’, warn scientists, \\'including the branch we are sitting on\"', 'score': 1966, 'comments': 215}, {'title': 'Angels plan to opt out of Anaheim stadium lease – opens the door for the team to possibly move', 'score': 18, 'comments': 6}, {'title': 'US embassy in Australia apologizes for Cookie Monster cat meeting invite', 'score': 43, 'comments': 12}, {'title': 'US voter records from 19 states sold on hacking forum', 'score': 1345, 'comments': 106}, {'title': \"Spotify ad banned for causing 'distress'\", 'score': 3, 'comments': 1}, {'title': 'Russian Orthodox Church severs links with Constantinople', 'score': 19, 'comments': 6}, {'title': 'Utah appeals court says if your ex shacks up with someone else, you may not have to pay alimony', 'score': 1238, 'comments': 430}, {'title': \"Child Caught On Camera Torturing Family's Puppy In Lawton\", 'score': 1, 'comments': 3}, {'title': 'Aurora man to be jailed in dog sex case; dog likely to be euthanized', 'score': 2, 'comments': 6}, {'title': 'PD: Baby found dead at Stamford recycling center', 'score': 10, 'comments': 1}, {'title': 'Dennis Hof, Nevada brothel owner, dead at 72', 'score': 12, 'comments': 9}, {'title': \"Judge approves Elon Musk's settlement with SEC\", 'score': 48, 'comments': 24}, {'title': 'PBSO units searching in the Florida Panhandle after Hurricane Michael find two bodies', 'score': 21, 'comments': 0}, {'title': 'Officials find traditional Ecuadorian roasted pig in Atlanta Airport', 'score': 26, 'comments': 22}, {'title': \"New York's highest court strips Leticia Astacio of City Court judgeship\", 'score': 25, 'comments': 18}, {'title': 'Affirmative action: Harvard racial admissions trial begins', 'score': 461, 'comments': 637}, {'title': 'UC Berkeley Phi Gamma Delta fraternity members allegedly mock sexual assault protest', 'score': 27, 'comments': 87}, {'title': 'After more than 30 previously reported swine fever outbreaks, China reports one on a commercial farm and culls 20K hogs', 'score': 31, 'comments': 4}]\n"
     ]
    }
   ],
   "source": [
    "print(submissions)"
   ]
  },
  {
   "cell_type": "code",
   "execution_count": 24,
   "metadata": {},
   "outputs": [
    {
     "data": {
      "text/html": [
       "<div>\n",
       "<style scoped>\n",
       "    .dataframe tbody tr th:only-of-type {\n",
       "        vertical-align: middle;\n",
       "    }\n",
       "\n",
       "    .dataframe tbody tr th {\n",
       "        vertical-align: top;\n",
       "    }\n",
       "\n",
       "    .dataframe thead th {\n",
       "        text-align: right;\n",
       "    }\n",
       "</style>\n",
       "<table border=\"1\" class=\"dataframe\">\n",
       "  <thead>\n",
       "    <tr style=\"text-align: right;\">\n",
       "      <th></th>\n",
       "      <th>comments</th>\n",
       "      <th>score</th>\n",
       "      <th>title</th>\n",
       "    </tr>\n",
       "  </thead>\n",
       "  <tbody>\n",
       "    <tr>\n",
       "      <th>0</th>\n",
       "      <td>995</td>\n",
       "      <td>11768</td>\n",
       "      <td>YouTube is down for users worldwide - NZ Herald</td>\n",
       "    </tr>\n",
       "    <tr>\n",
       "      <th>1</th>\n",
       "      <td>2738</td>\n",
       "      <td>79422</td>\n",
       "      <td>For the first time in 25 years New York City d...</td>\n",
       "    </tr>\n",
       "    <tr>\n",
       "      <th>2</th>\n",
       "      <td>3415</td>\n",
       "      <td>39691</td>\n",
       "      <td>Amber Alert issued for 13-year-old girl after ...</td>\n",
       "    </tr>\n",
       "    <tr>\n",
       "      <th>3</th>\n",
       "      <td>544</td>\n",
       "      <td>1243</td>\n",
       "      <td>\"Do you think I want to shoot an 11-year-old?\"...</td>\n",
       "    </tr>\n",
       "    <tr>\n",
       "      <th>4</th>\n",
       "      <td>154</td>\n",
       "      <td>1215</td>\n",
       "      <td>For the first time, a woman is leading the lar...</td>\n",
       "    </tr>\n",
       "  </tbody>\n",
       "</table>\n",
       "</div>"
      ],
      "text/plain": [
       "   comments  score                                              title\n",
       "0       995  11768    YouTube is down for users worldwide - NZ Herald\n",
       "1      2738  79422  For the first time in 25 years New York City d...\n",
       "2      3415  39691  Amber Alert issued for 13-year-old girl after ...\n",
       "3       544   1243  \"Do you think I want to shoot an 11-year-old?\"...\n",
       "4       154   1215  For the first time, a woman is leading the lar..."
      ]
     },
     "execution_count": 24,
     "metadata": {},
     "output_type": "execute_result"
    }
   ],
   "source": [
    "df.head()"
   ]
  },
  {
   "cell_type": "code",
   "execution_count": 31,
   "metadata": {},
   "outputs": [],
   "source": [
    "df.to_json(\"redditnews.json\")"
   ]
  },
  {
   "cell_type": "code",
   "execution_count": null,
   "metadata": {},
   "outputs": [],
   "source": []
  }
 ],
 "metadata": {
  "kernelspec": {
   "display_name": "Python 3",
   "language": "python",
   "name": "python3"
  },
  "language_info": {
   "codemirror_mode": {
    "name": "ipython",
    "version": 3
   },
   "file_extension": ".py",
   "mimetype": "text/x-python",
   "name": "python",
   "nbconvert_exporter": "python",
   "pygments_lexer": "ipython3",
   "version": "3.6.5"
  }
 },
 "nbformat": 4,
 "nbformat_minor": 2
}
